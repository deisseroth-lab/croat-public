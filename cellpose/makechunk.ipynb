{
 "cells": [
  {
   "cell_type": "code",
   "execution_count": 2,
   "metadata": {},
   "outputs": [],
   "source": [
    "import h5py\n",
    "import numpy as np\n",
    "\n",
    "fname = '/media/ssd/data/raw/bH_hyb1647+DAPI_trolox_20x/bH_hyb1647+DAPI_trolox_20x_2020-08-17_00.25.55_F00.ims'\n",
    "\n",
    "data = []\n",
    "for c in [0, 1]:\n",
    "    with h5py.File(fname, 'r') as hf:\n",
    "        data_chn = hf[f'DataSet/ResolutionLevel 0/TimePoint 0/Channel {c}/Data'][100:300, 800:1200, 800:1200]\n",
    "        data.append(data_chn)\n",
    "data = np.stack(data)\n",
    "np.savez_compressed('data', data=data)"
   ]
  },
  {
   "cell_type": "code",
   "execution_count": null,
   "metadata": {},
   "outputs": [],
   "source": []
  }
 ],
 "metadata": {
  "kernelspec": {
   "display_name": "Python 3",
   "language": "python",
   "name": "python3"
  },
  "language_info": {
   "codemirror_mode": {
    "name": "ipython",
    "version": 3
   },
   "file_extension": ".py",
   "mimetype": "text/x-python",
   "name": "python",
   "nbconvert_exporter": "python",
   "pygments_lexer": "ipython3",
   "version": "3.7.5"
  }
 },
 "nbformat": 4,
 "nbformat_minor": 4
}
